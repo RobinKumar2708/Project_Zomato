{
 "cells": [
  {
   "cell_type": "code",
   "execution_count": null,
   "metadata": {},
   "outputs": [],
   "source": [
    "!pip install mysql-connector-python"
   ]
  },
  {
   "cell_type": "code",
   "execution_count": 2,
   "metadata": {},
   "outputs": [],
   "source": [
    "import mysql.connector\n",
    "\n",
    "conn = mysql.connector.connect(\n",
    "    host=\"localhost\",\n",
    "    user=\"root\",\n",
    "    password=\"Umaneethi@123\",\n",
    "    database=\"zomato_deliveries\"\n",
    ")\n",
    "\n",
    "cursor = conn.cursor()\n"
   ]
  },
  {
   "cell_type": "code",
   "execution_count": null,
   "metadata": {},
   "outputs": [],
   "source": [
    "# Create Database\n",
    "cursor.execute(\"CREATE DATABASE IF NOT EXISTS Zomato_Deliveries;\")"
   ]
  },
  {
   "cell_type": "code",
   "execution_count": 3,
   "metadata": {},
   "outputs": [],
   "source": [
    "# Connect to the newly created database\n",
    "conn.database = \"Zomato_Deliveries\""
   ]
  },
  {
   "cell_type": "code",
   "execution_count": null,
   "metadata": {},
   "outputs": [],
   "source": [
    "from faker import Faker   \n",
    "import random\n",
    "from datetime import datetime, timedelta\n",
    "\n",
    "# Initialize Faker\n",
    "fake = Faker()\n",
    "\n",
    "# Create Customers Table\n",
    "cursor.execute('''\n",
    "CREATE TABLE IF NOT EXISTS Customers (\n",
    "    customer_id INT AUTO_INCREMENT PRIMARY KEY,\n",
    "    name VARCHAR(255),\n",
    "    email VARCHAR(255),\n",
    "    phone VARCHAR(20),\n",
    "    location VARCHAR(255),\n",
    "    signup_date DATE,\n",
    "    is_premium BOOLEAN,\n",
    "    preferred_cuisine VARCHAR(50),\n",
    "    total_orders INT,\n",
    "    average_rating FLOAT\n",
    ");\n",
    "''')\n",
    "\n",
    "# Create Restaurants Table\n",
    "cursor.execute('''\n",
    "CREATE TABLE IF NOT EXISTS Restaurants (\n",
    "    restaurant_id INT AUTO_INCREMENT PRIMARY KEY,\n",
    "    name VARCHAR(255),\n",
    "    cuisine_type VARCHAR(50),\n",
    "    location VARCHAR(255),\n",
    "    owner_name VARCHAR(255),\n",
    "    average_delivery_time INT,\n",
    "    contact_number VARCHAR(20),\n",
    "    rating FLOAT,\n",
    "    total_orders INT,\n",
    "    is_active BOOLEAN\n",
    ");\n",
    "''')\n",
    "\n",
    "# Create Orders Table\n",
    "cursor.execute('''\n",
    "CREATE TABLE IF NOT EXISTS Orders (\n",
    "    order_id INT AUTO_INCREMENT PRIMARY KEY,\n",
    "    customer_id INT,\n",
    "    restaurant_id INT,\n",
    "    order_date DATETIME,\n",
    "    delivery_time DATETIME,\n",
    "    status VARCHAR(50),\n",
    "    total_amount FLOAT,\n",
    "    payment_mode VARCHAR(50),\n",
    "    discount_applied FLOAT,\n",
    "    feedback_rating FLOAT,\n",
    "    FOREIGN KEY (customer_id) REFERENCES Customers(customer_id),\n",
    "    FOREIGN KEY (restaurant_id) REFERENCES Restaurants(restaurant_id)\n",
    ");\n",
    "''')\n",
    "\n",
    "# Create DeliveryPersons Table\n",
    "cursor.execute('''\n",
    "CREATE TABLE IF NOT EXISTS DeliveryPersons (\n",
    "    delivery_person_id INT AUTO_INCREMENT PRIMARY KEY,\n",
    "    name VARCHAR(255),\n",
    "    contact_number VARCHAR(20),\n",
    "    vehicle_type VARCHAR(50),\n",
    "    total_deliveries INT,\n",
    "    average_rating FLOAT,\n",
    "    location VARCHAR(255)\n",
    ");\n",
    "''')\n",
    "\n",
    "# Create Deliveries Table (Referencing DeliveryPersons)\n",
    "cursor.execute('''\n",
    "CREATE TABLE IF NOT EXISTS Deliveries (\n",
    "    delivery_id INT AUTO_INCREMENT PRIMARY KEY,\n",
    "    order_id INT,\n",
    "    delivery_person_id INT,\n",
    "    delivery_status VARCHAR(50),\n",
    "    distance FLOAT,\n",
    "    delivery_time INT,\n",
    "    estimated_time INT,\n",
    "    delivery_fee FLOAT,\n",
    "    vehicle_type VARCHAR(50),\n",
    "    FOREIGN KEY (order_id) REFERENCES Orders(order_id),\n",
    "    FOREIGN KEY (delivery_person_id) REFERENCES DeliveryPersons(delivery_person_id)\n",
    ");\n",
    "''')\n",
    "\n",
    "# Commit table creation\n",
    "conn.commit()"
   ]
  },
  {
   "cell_type": "code",
   "execution_count": null,
   "metadata": {},
   "outputs": [],
   "source": [
    "# Number of records to generate\n",
    "num_customers = 100\n",
    "num_restaurants = 20\n",
    "num_orders = 150\n",
    "num_delivery_persons = 30\n",
    "num_deliveries = 100\n",
    "\n",
    "# Insert Customers\n",
    "def generate_customers(n):\n",
    "    for _ in range(n):\n",
    "        cursor.execute(\"\"\"\n",
    "            INSERT INTO Customers (name, email, phone, location, signup_date, is_premium, preferred_cuisine, total_orders, average_rating)\n",
    "            VALUES (%s, %s, %s, %s, %s, %s, %s, %s, %s)\n",
    "        \"\"\", (\n",
    "            fake.name(),\n",
    "            fake.email(),\n",
    "            fake.phone_number()[:20],\n",
    "            fake.address(),\n",
    "            fake.date_this_decade(),\n",
    "            random.choice([True, False]),\n",
    "            random.choice(['Indian', 'Chinese', 'Italian', 'Mexican', 'Thai']),\n",
    "            random.randint(1, 50),\n",
    "            round(random.uniform(1, 5), 1)\n",
    "        ))\n",
    "\n",
    "generate_customers(num_customers)\n",
    "\n",
    "# Insert Restaurants\n",
    "def generate_restaurants(n):\n",
    "    for _ in range(n):\n",
    "        cursor.execute(\"\"\"\n",
    "            INSERT INTO Restaurants (name, cuisine_type, location, owner_name, average_delivery_time, contact_number, rating, total_orders, is_active)\n",
    "            VALUES (%s, %s, %s, %s, %s, %s, %s, %s, %s)\n",
    "        \"\"\", (\n",
    "            fake.company(),\n",
    "            random.choice(['Indian', 'Chinese', 'Italian', 'Mexican', 'Thai']),\n",
    "            fake.city(),\n",
    "            fake.name(),\n",
    "            random.randint(20, 60),\n",
    "            fake.phone_number()[:20],\n",
    "            round(random.uniform(1, 5), 1),\n",
    "            random.randint(50, 500),\n",
    "            random.choice([True, False])\n",
    "        ))\n",
    "\n",
    "generate_restaurants(num_restaurants)\n",
    "\n",
    "# Insert Orders\n",
    "def generate_orders(n):\n",
    "    for _ in range(n):\n",
    "        order_date = fake.date_time_this_year()\n",
    "        delivery_time = order_date + timedelta(minutes=random.randint(20, 90))\n",
    "        cursor.execute(\"\"\"\n",
    "            INSERT INTO Orders (customer_id, restaurant_id, order_date, delivery_time, status, total_amount, payment_mode, discount_applied, feedback_rating)\n",
    "            VALUES (%s, %s, %s, %s, %s, %s, %s, %s, %s)\n",
    "        \"\"\", (\n",
    "            random.randint(1, num_customers),\n",
    "            random.randint(1, num_restaurants),\n",
    "            order_date,\n",
    "            delivery_time,\n",
    "            random.choice(['Pending', 'Delivered', 'Cancelled']),\n",
    "            round(random.uniform(100, 1000), 2),\n",
    "            random.choice(['Credit Card', 'Cash', 'UPI']),\n",
    "            round(random.uniform(0, 50), 2),\n",
    "            round(random.uniform(1, 5), 1)\n",
    "        ))\n",
    "\n",
    "generate_orders(num_orders)\n",
    "\n",
    "# Insert Delivery Persons\n",
    "def generate_delivery_persons(n):\n",
    "    for _ in range(n):\n",
    "        cursor.execute(\"\"\"\n",
    "            INSERT INTO DeliveryPersons (name, contact_number, vehicle_type, total_deliveries, average_rating, location)\n",
    "            VALUES (%s, %s, %s, %s, %s, %s)\n",
    "        \"\"\", (\n",
    "            fake.name(),\n",
    "            fake.phone_number()[:20],\n",
    "            random.choice(['Bike', 'Car', 'Scooter']),\n",
    "            random.randint(50, 500),\n",
    "            round(random.uniform(1, 5), 1),\n",
    "            fake.city()\n",
    "        ))\n",
    "\n",
    "generate_delivery_persons(num_delivery_persons)\n",
    "\n",
    "# Insert Deliveries\n",
    "def generate_deliveries(n):\n",
    "    for _ in range(n):\n",
    "        cursor.execute(\"\"\"\n",
    "            INSERT INTO Deliveries (order_id, delivery_person_id, delivery_status, distance, delivery_time, estimated_time, delivery_fee, vehicle_type)\n",
    "            VALUES (%s, %s, %s, %s, %s, %s, %s, %s)\n",
    "        \"\"\", (\n",
    "            random.randint(1, num_orders),\n",
    "            random.randint(1, num_delivery_persons),\n",
    "            random.choice(['On the way', 'Delivered']),\n",
    "            round(random.uniform(1, 15), 1),\n",
    "            random.randint(20, 90),\n",
    "            random.randint(15, 80),\n",
    "            round(random.uniform(10, 100), 2),\n",
    "            random.choice(['Bike', 'Car', 'Scooter'])\n",
    "        ))\n",
    "\n",
    "generate_deliveries(num_deliveries)\n",
    "\n",
    "# Commit changes and close connection\n",
    "conn.commit()\n",
    "conn.close()\n",
    "\n",
    "print(\"Dummy data successfully inserted into 'Zomato_Deliveries' database!\")"
   ]
  },
  {
   "cell_type": "code",
   "execution_count": 4,
   "metadata": {},
   "outputs": [
    {
     "name": "stdout",
     "output_type": "stream",
     "text": [
      "[(44, 'Julian Sherman', 4), (38, 'Megan Gregory', 4), (95, 'Dr. James Davis', 4), (36, 'Ryan Lee', 4), (52, 'Ann Yates', 4)]\n"
     ]
    }
   ],
   "source": [
    "# 1)1. Find the top 5 customers who placed the most orders.\n",
    "\n",
    "query = \"\"\"\n",
    "SELECT c.customer_id, c.name, COUNT(o.order_id) AS total_orders \n",
    "FROM Customers c\n",
    "JOIN Orders o ON c.customer_id = o.customer_id \n",
    "GROUP BY c.customer_id, c.name \n",
    "ORDER BY total_orders DESC \n",
    "LIMIT 5;\n",
    "\"\"\"\n",
    "cursor.execute(query)\n",
    "result = cursor.fetchall()\n",
    "print(result)\n",
    "\n"
   ]
  },
  {
   "cell_type": "code",
   "execution_count": 5,
   "metadata": {},
   "outputs": [
    {
     "name": "stdout",
     "output_type": "stream",
     "text": [
      "[('Thai', 16)]\n"
     ]
    }
   ],
   "source": [
    "#2. Find the most popular cuisine type among premium customers.\n",
    "\n",
    "query = \"\"\"\n",
    "SELECT preferred_cuisine, COUNT(*) AS count \n",
    "FROM Customers \n",
    "WHERE is_premium = 1 \n",
    "GROUP BY preferred_cuisine \n",
    "ORDER BY count DESC \n",
    "LIMIT 1;\n",
    "\"\"\"\n",
    "cursor.execute(query)\n",
    "result = cursor.fetchall()\n",
    "print(result)\n"
   ]
  },
  {
   "cell_type": "code",
   "execution_count": 5,
   "metadata": {},
   "outputs": [
    {
     "name": "stdout",
     "output_type": "stream",
     "text": [
      "[('Ramos, Smith and Escobar', 4.8), ('Soto-Kim', 4.7), ('Adams Inc', 4.7)]\n"
     ]
    }
   ],
   "source": [
    "#3. Find the top 3 highest-rated restaurants.\n",
    "\n",
    "query = \"\"\"\n",
    "SELECT name, rating \n",
    "FROM Restaurants \n",
    "ORDER BY rating DESC \n",
    "LIMIT 3;\n",
    "\"\"\"\n",
    "cursor.execute(query)\n",
    "result = cursor.fetchall()\n",
    "print(result)\n"
   ]
  },
  {
   "cell_type": "code",
   "execution_count": 6,
   "metadata": {},
   "outputs": [
    {
     "name": "stdout",
     "output_type": "stream",
     "text": [
      "[('Soto-Kim', 60)]\n"
     ]
    }
   ],
   "source": [
    "#4)Find the restaurant with the longest average delivery time.\n",
    "\n",
    "query = \"\"\"\n",
    "SELECT name, average_delivery_time \n",
    "FROM Restaurants \n",
    "ORDER BY average_delivery_time DESC \n",
    "LIMIT 1;\n",
    "\"\"\"\n",
    "cursor.execute(query)\n",
    "result = cursor.fetchall()\n",
    "print(result)"
   ]
  },
  {
   "cell_type": "code",
   "execution_count": 7,
   "metadata": {},
   "outputs": [
    {
     "name": "stdout",
     "output_type": "stream",
     "text": [
      "[(44, 'Julian Sherman', 2803.6700134277344), (95, 'Dr. James Davis', 2535.3199768066406), (43, 'Michael Smith', 2460.4700317382812), (30, 'Barbara Anderson', 2452.510009765625), (32, 'Parker Simmons', 2378.679931640625)]\n"
     ]
    }
   ],
   "source": [
    "#5. Find the top 5 customers who have spent the most money.\n",
    "\n",
    "query = \"\"\"\n",
    "SELECT c.customer_id, c.name, SUM(o.total_amount) AS total_spent\n",
    "FROM Orders o\n",
    "JOIN Customers c ON o.customer_id = c.customer_id\n",
    "GROUP BY c.customer_id, c.name\n",
    "ORDER BY total_spent DESC\n",
    "LIMIT 5;\n",
    "\"\"\"\n",
    "cursor.execute(query)\n",
    "result = cursor.fetchall()\n",
    "print(result)\n",
    "\n"
   ]
  },
  {
   "cell_type": "code",
   "execution_count": 8,
   "metadata": {},
   "outputs": [
    {
     "name": "stdout",
     "output_type": "stream",
     "text": [
      "[('UPI', 53), ('Cash', 43), ('Credit Card', 54)]\n"
     ]
    }
   ],
   "source": [
    "#6. Find the number of orders per payment mode.\n",
    "\n",
    "query = \"\"\"\n",
    "SELECT payment_mode, COUNT(*) AS total_orders \n",
    "FROM Orders \n",
    "GROUP BY payment_mode;\n",
    "\"\"\"\n",
    "cursor.execute(query)\n",
    "result = cursor.fetchall()\n",
    "print(result)\n"
   ]
  },
  {
   "cell_type": "code",
   "execution_count": 9,
   "metadata": {},
   "outputs": [
    {
     "name": "stdout",
     "output_type": "stream",
     "text": [
      "[(3, 'Kelli Hernandez'), (11, 'Edward Lambert'), (15, 'Justin Glenn'), (21, 'Sara Thompson'), (23, 'Kimberly Brown'), (33, 'Tammy Medina'), (35, 'Ryan Jackson'), (46, 'Laura James'), (48, 'Steven Holmes'), (50, 'Veronica Haas'), (53, 'Erica Gibson'), (56, 'Joseph Knapp'), (59, 'Joseph Banks'), (66, 'Mark Perez'), (68, 'Christopher Terrell'), (70, 'Brittney Price'), (71, 'Samantha Christensen'), (75, 'Joseph Lawrence'), (88, 'Sonya Mcdonald'), (89, 'Lisa Rodriguez'), (93, 'Melissa Charles'), (96, 'Eric Baker'), (99, 'Heather Flores'), (100, 'Brianna Cohen')]\n"
     ]
    }
   ],
   "source": [
    "#7. Identify customers who have not placed any orders.\n",
    "\n",
    "query = \"\"\"\n",
    "SELECT c.customer_id, c.name \n",
    "FROM Customers c \n",
    "LEFT JOIN Orders o ON c.customer_id = o.customer_id \n",
    "WHERE o.order_id IS NULL;\n",
    "\"\"\"\n",
    "cursor.execute(query)\n",
    "result = cursor.fetchall()\n",
    "print(result)\n"
   ]
  },
  {
   "cell_type": "code",
   "execution_count": 10,
   "metadata": {},
   "outputs": [
    {
     "name": "stdout",
     "output_type": "stream",
     "text": [
      "[('On the way', 50)]\n"
     ]
    }
   ],
   "source": [
    "#8. Find the most common delivery status.\n",
    "\n",
    "query = \"\"\"\n",
    "SELECT delivery_status, COUNT(*) AS count \n",
    "FROM Deliveries \n",
    "GROUP BY delivery_status \n",
    "ORDER BY count DESC \n",
    "LIMIT 1;\n",
    "\"\"\"\n",
    "cursor.execute(query)\n",
    "result = cursor.fetchall()\n",
    "print(result)\n"
   ]
  },
  {
   "cell_type": "code",
   "execution_count": 11,
   "metadata": {},
   "outputs": [
    {
     "name": "stdout",
     "output_type": "stream",
     "text": [
      "[(44, 'Julian Sherman', 4), (36, 'Ryan Lee', 4), (38, 'Megan Gregory', 4)]\n"
     ]
    }
   ],
   "source": [
    "#9. Find the top 3 most frequent customers (by order count).\n",
    "\n",
    "query = \"\"\"\n",
    "SELECT c.customer_id, c.name, COUNT(o.order_id) AS total_orders\n",
    "FROM Customers c\n",
    "JOIN Orders o ON c.customer_id = o.customer_id\n",
    "GROUP BY c.customer_id, c.name\n",
    "ORDER BY total_orders DESC\n",
    "LIMIT 3;\n",
    "\"\"\"\n",
    "cursor.execute(query)\n",
    "result = cursor.fetchall()\n",
    "print(result)\n"
   ]
  },
  {
   "cell_type": "code",
   "execution_count": 12,
   "metadata": {},
   "outputs": [
    {
     "name": "stdout",
     "output_type": "stream",
     "text": [
      "[(2, 'Bradley Howell', 6)]\n"
     ]
    }
   ],
   "source": [
    "#10. Identify the busiest delivery person.\n",
    "\n",
    "query = \"\"\"\n",
    "SELECT d.delivery_person_id, d.name, COUNT(*) AS total_deliveries \n",
    "FROM Deliveries del\n",
    "JOIN DeliveryPersons d ON del.delivery_person_id = d.delivery_person_id\n",
    "GROUP BY d.delivery_person_id, d.name \n",
    "ORDER BY total_deliveries DESC \n",
    "LIMIT 1;\n",
    "\"\"\"\n",
    "cursor.execute(query)\n",
    "result = cursor.fetchall()\n",
    "print(result)\n"
   ]
  },
  {
   "cell_type": "code",
   "execution_count": 13,
   "metadata": {},
   "outputs": [
    {
     "name": "stdout",
     "output_type": "stream",
     "text": [
      "[('Hawkins Ltd', 4.333333412806193)]\n"
     ]
    }
   ],
   "source": [
    "# 11.Find the restaurant with the best average feedback rating.\n",
    "\n",
    "query = \"\"\"\n",
    "SELECT r.name, AVG(o.feedback_rating) AS avg_rating\n",
    "FROM Orders o\n",
    "JOIN Restaurants r ON o.restaurant_id = r.restaurant_id\n",
    "GROUP BY r.name\n",
    "ORDER BY avg_rating DESC\n",
    "LIMIT 1;\n",
    "\"\"\"\n",
    "cursor.execute(query)\n",
    "result = cursor.fetchall()\n",
    "print(result)\n"
   ]
  },
  {
   "cell_type": "code",
   "execution_count": 14,
   "metadata": {},
   "outputs": [
    {
     "name": "stdout",
     "output_type": "stream",
     "text": [
      "[('Jonathan Brooks', 4.6)]\n"
     ]
    }
   ],
   "source": [
    "#12. Find the highest-rated delivery person.\n",
    "\n",
    "query = \"\"\"\n",
    "SELECT name, average_rating \n",
    "FROM DeliveryPersons \n",
    "ORDER BY average_rating DESC \n",
    "LIMIT 1;\n",
    "\"\"\"\n",
    "cursor.execute(query)\n",
    "result = cursor.fetchall()\n",
    "print(result)\n"
   ]
  },
  {
   "cell_type": "code",
   "execution_count": 15,
   "metadata": {},
   "outputs": [
    {
     "name": "stdout",
     "output_type": "stream",
     "text": [
      "[(24.006266639431317,)]\n"
     ]
    }
   ],
   "source": [
    "#13. Identify the average discount applied per order.\n",
    "\n",
    "query = \"\"\"\n",
    "SELECT AVG(discount_applied) AS avg_discount \n",
    "FROM Orders;\n",
    "\"\"\"\n",
    "cursor.execute(query)\n",
    "result = cursor.fetchall()\n",
    "print(result)\n"
   ]
  },
  {
   "cell_type": "code",
   "execution_count": 16,
   "metadata": {},
   "outputs": [
    {
     "name": "stdout",
     "output_type": "stream",
     "text": [
      "[('UPI', 29597.589920043945), ('Credit Card', 28882.669998168945), ('Cash', 24861.16000366211)]\n"
     ]
    }
   ],
   "source": [
    "# 14. Find the total revenue generated by each payment mode.\n",
    "\n",
    "query = \"\"\"\n",
    "SELECT payment_mode, SUM(total_amount) AS total_revenue\n",
    "FROM Orders\n",
    "GROUP BY payment_mode\n",
    "ORDER BY total_revenue DESC;\n",
    "\"\"\"\n",
    "cursor.execute(query)\n",
    "result = cursor.fetchall()\n",
    "print(result)\n"
   ]
  },
  {
   "cell_type": "code",
   "execution_count": 17,
   "metadata": {},
   "outputs": [
    {
     "name": "stdout",
     "output_type": "stream",
     "text": [
      "[(2, 'Bradley Howell', 6)]\n"
     ]
    }
   ],
   "source": [
    "# 15.Find the delivery person who has delivered the most orders.\n",
    "\n",
    "query = \"\"\"\n",
    "SELECT d.delivery_person_id, d.name, COUNT(del.delivery_id) AS total_deliveries\n",
    "FROM Deliveries del\n",
    "JOIN DeliveryPersons d ON del.delivery_person_id = d.delivery_person_id\n",
    "GROUP BY d.delivery_person_id, d.name\n",
    "ORDER BY total_deliveries DESC\n",
    "LIMIT 1;\n",
    "\"\"\"\n",
    "cursor.execute(query)\n",
    "result = cursor.fetchall()\n",
    "print(result)\n"
   ]
  },
  {
   "cell_type": "code",
   "execution_count": 18,
   "metadata": {},
   "outputs": [
    {
     "name": "stdout",
     "output_type": "stream",
     "text": [
      "[(36, 'Ryan Lee', 4), (38, 'Megan Gregory', 4), (44, 'Julian Sherman', 4), (52, 'Ann Yates', 4), (95, 'Dr. James Davis', 4)]\n"
     ]
    }
   ],
   "source": [
    "# 16. Identify customers who have placed orders at more than 3 different restaurants.\n",
    "\n",
    "query = \"\"\"\n",
    "SELECT c.customer_id, c.name, COUNT(DISTINCT o.restaurant_id) AS unique_restaurants \n",
    "FROM Orders o\n",
    "JOIN Customers c ON o.customer_id = c.customer_id\n",
    "GROUP BY c.customer_id, c.name \n",
    "HAVING unique_restaurants > 3;\n",
    "\"\"\"\n",
    "cursor.execute(query)\n",
    "result = cursor.fetchall()\n",
    "print(result)\n"
   ]
  },
  {
   "cell_type": "code",
   "execution_count": 19,
   "metadata": {},
   "outputs": [
    {
     "name": "stdout",
     "output_type": "stream",
     "text": [
      "[(8, 10)]\n"
     ]
    }
   ],
   "source": [
    "# 17.  Find the busiest time period (hour) for order placements.\n",
    "\n",
    "query = \"\"\"\n",
    "SELECT HOUR(order_date) AS order_hour, COUNT(*) AS order_count \n",
    "FROM Orders \n",
    "GROUP BY order_hour \n",
    "ORDER BY order_count DESC \n",
    "LIMIT 1;\n",
    "\"\"\"\n",
    "cursor.execute(query)\n",
    "result = cursor.fetchall()\n",
    "print(result)\n"
   ]
  },
  {
   "cell_type": "code",
   "execution_count": 20,
   "metadata": {},
   "outputs": [
    {
     "name": "stdout",
     "output_type": "stream",
     "text": [
      "[('Helen Johnson', 4.800000190734863), ('Marie Farrell', 4.699999809265137), ('Laura Hamilton', 4.599999904632568), ('Paul King', 4.599999904632568), ('Michelle Baird', 4.800000190734863), ('Mark Mathews', 4.900000095367432)]\n"
     ]
    }
   ],
   "source": [
    "# 18. Find customers who have given an average rating above 4.5.\n",
    "\n",
    "query = \"\"\"\n",
    "SELECT c.name, AVG(o.feedback_rating) AS avg_rating \n",
    "FROM Orders o\n",
    "JOIN Customers c ON o.customer_id = c.customer_id\n",
    "GROUP BY c.name \n",
    "HAVING avg_rating > 4.5;\n",
    "\"\"\"\n",
    "cursor.execute(query)\n",
    "result = cursor.fetchall()\n",
    "print(result)\n"
   ]
  },
  {
   "cell_type": "code",
   "execution_count": 21,
   "metadata": {},
   "outputs": [
    {
     "name": "stdout",
     "output_type": "stream",
     "text": [
      "[('Thomas-Green', 6745.729919433594), ('Thompson Group', 5773.7900390625), ('Singleton PLC', 5699.269958496094), ('Diaz-Frederick', 5676.130035400391), ('Campbell-Taylor', 5259.899971008301), ('Morris-Herrera', 5002.570007324219), ('Ashley, Morrison and Schmitt', 4596.420013427734), ('Owens Group', 4555.779968261719), ('Smith-Williams', 4308.919952392578), ('Shah-Gomez', 3978.149948120117), ('Wilson Group', 3898.4300231933594), ('Juarez-Harris', 3728.2599487304688), ('Cherry, Schultz and Webb', 3721.300048828125), ('Soto-Kim', 3643.280029296875), ('Ramos, Smith and Escobar', 3552.1000366210938), ('Larson Ltd', 3443.76993560791), ('Hall, Chapman and Hill', 2979.710006713867), ('Adams Inc', 2781.1600189208984), ('Hawkins Ltd', 2015.7000122070312), ('Kemp Group', 1981.050048828125)]\n"
     ]
    }
   ],
   "source": [
    "# 19. Calculate total revenue per restaurant.\n",
    "\n",
    "query = \"\"\"\n",
    "SELECT r.name, SUM(o.total_amount) AS total_revenue \n",
    "FROM Orders o\n",
    "JOIN Restaurants r ON o.restaurant_id = r.restaurant_id\n",
    "GROUP BY r.name \n",
    "ORDER BY total_revenue DESC;\n",
    "\"\"\"\n",
    "cursor.execute(query)\n",
    "result = cursor.fetchall()\n",
    "print(result)\n",
    "\n"
   ]
  },
  {
   "cell_type": "code",
   "execution_count": 24,
   "metadata": {},
   "outputs": [
    {
     "name": "stdout",
     "output_type": "stream",
     "text": [
      "[('Soto-Kim', 7, 6, Decimal('1.1667'))]\n"
     ]
    }
   ],
   "source": [
    "# 20.Find the restaurant with the highest repeat customer rate.\n",
    "\n",
    "query = \"\"\"\n",
    "SELECT r.name, \n",
    "       COUNT(o.customer_id) AS total_orders, \n",
    "       COUNT(DISTINCT o.customer_id) AS unique_customers,\n",
    "       (COUNT(o.customer_id) / COUNT(DISTINCT o.customer_id)) AS repeat_rate\n",
    "FROM Orders o\n",
    "JOIN Restaurants r ON o.restaurant_id = r.restaurant_id\n",
    "GROUP BY r.name\n",
    "ORDER BY repeat_rate DESC\n",
    "LIMIT 1;\n",
    "\"\"\"\n",
    "cursor.execute(query)\n",
    "result = cursor.fetchall()\n",
    "print(result)\n"
   ]
  },
  {
   "cell_type": "code",
   "execution_count": null,
   "metadata": {},
   "outputs": [],
   "source": []
  }
 ],
 "metadata": {
  "kernelspec": {
   "display_name": "Python 3",
   "language": "python",
   "name": "python3"
  },
  "language_info": {
   "codemirror_mode": {
    "name": "ipython",
    "version": 3
   },
   "file_extension": ".py",
   "mimetype": "text/x-python",
   "name": "python",
   "nbconvert_exporter": "python",
   "pygments_lexer": "ipython3",
   "version": "3.13.1"
  }
 },
 "nbformat": 4,
 "nbformat_minor": 2
}
